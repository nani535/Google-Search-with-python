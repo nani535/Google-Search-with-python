{
 "cells": [
  {
   "cell_type": "code",
   "execution_count": 1,
   "metadata": {},
   "outputs": [],
   "source": [
    "from googlesearch import search"
   ]
  },
  {
   "cell_type": "code",
   "execution_count": 3,
   "metadata": {},
   "outputs": [
    {
     "name": "stdout",
     "output_type": "stream",
     "text": [
      "https://www.youtube.com/watch?v=YQHsXMglC9A\n",
      "https://www.hellomagazine.com/royalty/20210504112378/princess-beatrice-wedding-makes-royal-history/\n",
      "https://www.hellomagazine.com/fashion/royal-style/20210504112387/kate-middleton-ghost-boo-blouse-stocked-at-asos/\n",
      "https://www.hellomagazine.com/royalty/20210504112383/meghan-markle-son-archie-double-celebrations-this-week/\n",
      "https://www.youtube.com/watch?v=DfG6VKnjrVw\n",
      "https://www.youtube.com/watch?v=mHONNcZbwDY\n",
      "https://en.wikipedia.org/wiki/Hello_(Adele_song)\n",
      "https://en.wikipedia.org/wiki/Hello_(Adele_song)#Writing_and_composition\n",
      "https://en.wikipedia.org/wiki/Hello_(Adele_song)#Chart_performance\n",
      "https://en.wikipedia.org/wiki/Hello_(Adele_song)#Accolades\n"
     ]
    }
   ],
   "source": [
    "#query='hello'\n",
    "for i in search(query='hello',tld='com',num=10,stop=10,pause=2):\n",
    "    print(i)"
   ]
  },
  {
   "cell_type": "code",
   "execution_count": null,
   "metadata": {},
   "outputs": [],
   "source": []
  }
 ],
 "metadata": {
  "kernelspec": {
   "display_name": "Python 3",
   "language": "python",
   "name": "python3"
  },
  "language_info": {
   "codemirror_mode": {
    "name": "ipython",
    "version": 3
   },
   "file_extension": ".py",
   "mimetype": "text/x-python",
   "name": "python",
   "nbconvert_exporter": "python",
   "pygments_lexer": "ipython3",
   "version": "3.8.3"
  }
 },
 "nbformat": 4,
 "nbformat_minor": 4
}
